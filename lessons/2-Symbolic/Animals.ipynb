{
 "cells": [
  {
   "cell_type": "markdown",
   "metadata": {
    "collapsed": true
   },
   "source": [
    "# Implementing an Animal Expert System\n",
    "\n",
    "In this sample, we will implement a simple knowledge-based system to determine an animal based on some physical characteristics.\n",
    "\n",
    "The system can be represented by the following AND-OR tree (this is a part of the whole tree, we can easily add some more rules).\n",
    "\n",
    "![](images/AND-OR-Tree.png)"
   ]
  },
  {
   "cell_type": "markdown",
   "metadata": {},
   "source": []
  }
 ],
 "metadata": {
  "kernelspec": {
   "display_name": "Python 3 (ipykernel)",
   "language": "python",
   "name": "python3"
  },
  "language_info": {
   "name": "python",
   "version": "3.8.2"
  }
 },
 "nbformat": 4,
 "nbformat_minor": 2
}
